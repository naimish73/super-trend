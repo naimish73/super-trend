{
 "cells": [
  {
   "cell_type": "code",
   "execution_count": 203,
   "metadata": {},
   "outputs": [],
   "source": [
    "from yfinance import Ticker\n",
    "import pandas_ta as ta\n",
    "import numpy as np\n",
    "import pandas as pd"
   ]
  },
  {
   "cell_type": "code",
   "execution_count": 204,
   "metadata": {},
   "outputs": [],
   "source": [
    "# Define symbol\n",
    "symbol = \"TCS.NS\"\n",
    "prize_range_touch = []"
   ]
  },
  {
   "cell_type": "code",
   "execution_count": 205,
   "metadata": {},
   "outputs": [],
   "source": [
    "# Fetch the latest minute's data\n",
    "\n",
    "def fetch_realtime_data(symbol):\n",
    "    latest_data = Ticker(symbol).history(interval=\"1d\", start=\"2023-01-02\", end=\"2024-02-19\")\n",
    "    # latest_data.to_csv('dataset/tcs_stock_2023-01-01_2024-02-19.csv')\n",
    "    # print('latest data: ', latest_data)\n",
    "    return latest_data"
   ]
  },
  {
   "cell_type": "code",
   "execution_count": 206,
   "metadata": {},
   "outputs": [],
   "source": [
    "# Calculate superternd\n",
    "\n",
    "def calculate_supertrend(data):\n",
    "    super_trend = ta.supertrend(data['High'], data['Low'], data['Close'], atr=20, multiplier=2)\n",
    "    # super_trend.to_csv('dataset/super_trend.csv')\n",
    "    # print('\\n\\nSuper Trend:\\n', super_trend)\n",
    "    return super_trend"
   ]
  },
  {
   "cell_type": "code",
   "execution_count": 207,
   "metadata": {},
   "outputs": [],
   "source": [
    "def check_supertrend_range(data, super_trend):\n",
    "    for i in range(int(data.shape[0])):\n",
    "        # if data.isnull().loc[i,'Close'] or (super_trend.isnull().loc[i,'SUPERT_7_2.0'] and (super_trend.isnull().loc[i,'SUPERTl_7_2.0'] and super_trend.isnull().loc[i,'SUPERTs_7_2.0'])):\n",
    "        if data.isnull().iloc[i,3] or super_trend.isnull().iloc[i,0]:\n",
    "            continue\n",
    "            # print('Nan found', data.isnull().loc[i,'Close'], super_trend.isnull().loc[i,'SUPERT_7_2.0'])\n",
    "        \n",
    "        # print('checking: ', int(super_trend.loc[i,\"SUPERTd_7_2.0\"]))\n",
    "        if int(super_trend.iloc[i,1]) == -1:\n",
    "            supertrend_line = 3\n",
    "        elif int(super_trend.iloc[i,1]) == 1:\n",
    "            supertrend_line = 2\n",
    "        else:\n",
    "            supertrend_line = np.nan\n",
    "            \n",
    "        # print(f\"value: {super_trend.loc[i, supertrend_line]}\")\n",
    "\n",
    "        rangeDifference = data.iloc[i,3] * 0.01\n",
    "        if abs(data.iloc[i, 3] - super_trend.iloc[i, supertrend_line]) < rangeDifference:\n",
    "            prize_range_touch.append(data.iloc[i, 3])"
   ]
  },
  {
   "cell_type": "code",
   "execution_count": 208,
   "metadata": {},
   "outputs": [
    {
     "name": "stdout",
     "output_type": "stream",
     "text": [
      "\n",
      "data fetched\n",
      "\n",
      "SuperTrend calculated\n",
      "\n",
      "SuperTrend range checked\n",
      "\n",
      "\n",
      "prize_range_touch: [3301.37890625, 3392.103515625, 3151.1865234375, 3085.919677734375, 3077.3193359375, 3143.56884765625, 3133.54296875, 3164.308837890625, 3153.938720703125, 3242.40283203125, 3240.781005859375, 3226.412109375, 3206.904296875, 3240.02783203125, 3240.4736328125, 3228.095458984375, 3344.111572265625, 3370.37158203125, 3363.9677734375, 3427.260009765625, 3415.94189453125, 3418.821044921875, 3342.920166015625, 3357.86181640625, 3373.846435546875, 3363.421630859375, 3357.01806640625, 3351.309326171875, 3351.905029296875, 3366.5986328125, 3404.72314453125, 3405.268798828125, 3430.43701171875, 3417.182861328125, 3511.351806640625, 3503.26025390625, 3488.6162109375, 3512.344482421875, 3517.1103515625, 3388.598388671875, 3441.15478515625, 3576.975341796875, 3810.300048828125, 3801.0, 3800.550048828125, 3815.949951171875]\n"
     ]
    },
    {
     "name": "stderr",
     "output_type": "stream",
     "text": [
      "/home/neo/Desktop/prime/programs/projects/super-trend/venv/lib/python3.10/site-packages/yfinance/utils.py:775: FutureWarning: The 'unit' keyword in TimedeltaIndex construction is deprecated and will be removed in a future version. Use pd.to_timedelta instead.\n",
      "  df.index += _pd.TimedeltaIndex(dst_error_hours, 'h')\n"
     ]
    }
   ],
   "source": [
    "# Fetch real-time data\n",
    "data = fetch_realtime_data(symbol)\n",
    "print('\\ndata fetched')\n",
    "\n",
    "# Calculate SuperTrend\n",
    "super_trend = calculate_supertrend(data)\n",
    "print('\\nSuperTrend calculated')\n",
    "\n",
    "# Check if SuperTrend falls within a certain range\n",
    "check_supertrend_range(data, super_trend)\n",
    "print('\\nSuperTrend range checked')\n",
    "\n",
    "print('\\n\\nprize_range_touch:', prize_range_touch)"
   ]
  }
 ],
 "metadata": {
  "kernelspec": {
   "display_name": "venv",
   "language": "python",
   "name": "python3"
  },
  "language_info": {
   "codemirror_mode": {
    "name": "ipython",
    "version": 3
   },
   "file_extension": ".py",
   "mimetype": "text/x-python",
   "name": "python",
   "nbconvert_exporter": "python",
   "pygments_lexer": "ipython3",
   "version": "3.10.12"
  }
 },
 "nbformat": 4,
 "nbformat_minor": 2
}
