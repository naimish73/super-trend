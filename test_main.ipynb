{
 "cells": [
  {
   "cell_type": "code",
   "execution_count": 1,
   "metadata": {},
   "outputs": [],
   "source": [
    "from yfinance import Ticker\n",
    "import pandas_ta as ta\n",
    "import numpy as np\n",
    "import pandas as pd\n",
    "# from symbolList import symbol_list\n",
    "\n",
    "symbol_list = {\n",
    "    \"Aarti Industries Limited\": \"AARTIIND.NS\",\n",
    "}\n",
    "\n",
    "\n",
    "\n",
    "    "
   ]
  },
  {
   "cell_type": "code",
   "execution_count": 2,
   "metadata": {},
   "outputs": [],
   "source": [
    "\n",
    "# Fetch the latest minute's data\n",
    "def fetch_realtime_data(symbol):\n",
    "    latest_data = Ticker(symbol).history(interval=\"1m\", period='1d')\n",
    "    return latest_data\n"
   ]
  },
  {
   "cell_type": "code",
   "execution_count": 5,
   "metadata": {},
   "outputs": [],
   "source": [
    "\n",
    "# Calculate superternd\n",
    "def calculate_supertrend(data):\n",
    "    super_trend = data.ta.supertrend(length=20, multiplier=2.0)\n",
    "\n",
    "    data.reset_index(inplace=True)\n",
    "    super_trend.reset_index(inplace=True)\n",
    "    try:\n",
    "        merged_df = pd.merge(data, super_trend, on=\"Datetime\")\n",
    "        # merged_df.to_csv('super-trend/dataset/merged_df.csv')\n",
    "\n",
    "    except Exception as e:\n",
    "        print(e)\n",
    "        return None\n",
    "    # print([[merged_df['Datetime'], merged_df['Close'],merged_df['SUPERT_20_2.0'],merged_df['SUPERTl_20_2.0'] , merged_df['SUPERTd_20_2.0']]])\n",
    "    \n",
    "    return merged_df\n",
    "\n"
   ]
  },
  {
   "cell_type": "code",
   "execution_count": 53,
   "metadata": {},
   "outputs": [],
   "source": [
    "\n",
    "# Checking the range of the prize with super-trend\n",
    "def check_supertrend_range(merge_data):\n",
    "    # prize_range_touch = []\n",
    "\n",
    "    for i in range(int(merge_data.shape[0])):\n",
    "        if merge_data.isnull().iloc[i,4] or merge_data.isnull().iloc[i,8]:\n",
    "            continue\n",
    "        \n",
    "        if int(merge_data.iloc[i,9]) == -1:\n",
    "            supertrend_line = 11\n",
    "        elif int(merge_data.iloc[i,9]) == 1:\n",
    "            supertrend_line = 10\n",
    "        else:\n",
    "            supertrend_line = np.nan\n",
    "            \n",
    "        rangeDifference = merge_data.iloc[i,4] * 0.01\n",
    "        # print('range_difference:', rangeDifference)\n",
    "\n",
    "        # print('abs :',abs(merge_data.iloc[i, 4] - merge_data.iloc[i, supertrend_line]) )\n",
    "\n",
    "        if rangeDifference < abs(merge_data.iloc[i, 4] - merge_data.iloc[i, supertrend_line])  :\n",
    "            # prize_range_touch.append(data.iloc[i, 3])\n",
    "            print('close_prize:', merge_data.iloc[i, 4], ', super_trend:', merge_data.iloc[i, supertrend_line], 'range_difference:', abs(merge_data.iloc[i, 4] - merge_data.iloc[i, supertrend_line]))\n",
    "            return True\n",
    "    \n",
    "    return False"
   ]
  },
  {
   "cell_type": "code",
   "execution_count": 49,
   "metadata": {},
   "outputs": [],
   "source": [
    "\n",
    "def check_supertrend_range2(merge_data):\n",
    "\n",
    "    for i in range(len(merge_data)):\n",
    "        range_val = merge_data['Close'][i] * 0.01\n",
    "\n",
    "        if (merge_data['SUPERTd_20_2.0'][i] == -1) & (merge_data['SUPERTs_20_2.0'][i] > 0):\n",
    "            # supertrend_line = 11\n",
    "\n",
    "            range_difference = abs(merge_data['Close'][i] - merge_data['SUPERTs_20_2.0'][i])\n",
    "\n",
    "            if  range_val< range_difference:\n",
    "                print('close_prize:', merge_data['Close'][i],'super_trend :', merge_data['SUPERTs_20_2.0'][i] ,'Range_val :',range_val ,'range_difference:', range_difference)\n",
    "                return True\n",
    "            \n",
    "        elif (merge_data['SUPERTd_20_2.0'][i] == 1) & (merge_data['SUPERTl_20_2.0'][i] > 0):\n",
    "            # supertrend_line = 10\n",
    "\n",
    "            range_difference = abs(merge_data['Close'][i] - merge_data['SUPERTl_20_2.0'][i])\n",
    "\n",
    "            if range_val< range_difference :\n",
    "                print('close_prize:',  merge_data['Close'][i],'super_trend :', merge_data['SUPERTl_20_2.0'][i],'Range_val :',range_val ,'range_difference:', range_difference)\n",
    "                return True\n",
    "            \n",
    "        \n",
    "    return False\n",
    "\n",
    "\n",
    "\n",
    "\n",
    "#     if check_range:\n",
    "#         prize_range_touch.append(name)\n",
    "\n",
    "# if len(prize_range_touch) > 0:\n",
    "#     print(prize_range_touch)\n",
    "# data= fetch_realtime_data('IRCTC.NS')\n",
    "# merge_data = calculate_supertrend(data)\n",
    "# merge_data.drop(columns=['Dividends', 'Volume','Stock Splits'], inplace=True)\n",
    "# d=merge_data.loc[(merge_data['SUPERTd_20_2.0'] < 0) & (merge_data['SUPERTs_20_2.0'] > 0)]\n",
    "# merge_data.tail()\n"
   ]
  },
  {
   "cell_type": "code",
   "execution_count": 54,
   "metadata": {},
   "outputs": [
    {
     "name": "stdout",
     "output_type": "stream",
     "text": [
      "close_prize: 771.5 , super_trend: 762.1071560204545 range_difference: 9.392843979545546\n",
      "close_prize: 13.399999618530273 , super_trend: 13.237617585401106 range_difference: 0.16238203312916788\n",
      "close_prize: 1067.300048828125 , super_trend: 1056.100849993132 range_difference: 11.199198834993012\n",
      "close_prize: 4599.9501953125 , super_trend: 4543.277917550495 range_difference: 56.67227776200525\n",
      "['Can Fin Homes Limited', 'Vodafone Idea Limited', 'Tata Chemicals Limited', 'Trent Limited']\n",
      "4\n",
      "183\n"
     ]
    }
   ],
   "source": [
    "from symbolList import symbol_list\n",
    "\n",
    "company_name = []\n",
    "\n",
    "for name, sbl in symbol_list.items():\n",
    "    data = fetch_realtime_data(sbl)\n",
    "    merged_data = calculate_supertrend(data)\n",
    "    check_range = check_supertrend_range(merged_data)\n",
    "    if check_range:\n",
    "        company_name.append(name)\n",
    "    \n",
    "print(company_name)\n",
    "print(len(company_name))\n",
    "print(len(symbol_list))\n",
    "    "
   ]
  },
  {
   "cell_type": "code",
   "execution_count": 55,
   "metadata": {},
   "outputs": [
    {
     "name": "stdout",
     "output_type": "stream",
     "text": [
      "close_prize: 771.5 super_trend : 762.1071560204545 Range_val : 7.715 range_difference: 9.392843979545546\n",
      "close_prize: 13.399999618530273 super_trend : 13.237617585401106 Range_val : 0.13399999618530273 range_difference: 0.16238203312916788\n",
      "close_prize: 1067.300048828125 super_trend : 1056.100849993132 Range_val : 10.67300048828125 range_difference: 11.199198834993012\n",
      "close_prize: 4599.9501953125 super_trend : 4543.277917550495 Range_val : 45.999501953125 range_difference: 56.67227776200525\n",
      "['Can Fin Homes Limited', 'Vodafone Idea Limited', 'Tata Chemicals Limited', 'Trent Limited']\n",
      "4\n",
      "183\n"
     ]
    }
   ],
   "source": [
    "from symbolList import symbol_list\n",
    "\n",
    "company_name = []\n",
    "\n",
    "for name, sbl in symbol_list.items():\n",
    "    data = fetch_realtime_data(sbl)\n",
    "    merged_data = calculate_supertrend(data)\n",
    "    check_range = check_supertrend_range2(merged_data)\n",
    "    if check_range:\n",
    "        company_name.append(name)\n",
    "    \n",
    "print(company_name)\n",
    "print(len(company_name))\n",
    "print(len(symbol_list))\n",
    "    "
   ]
  },
  {
   "cell_type": "code",
   "execution_count": null,
   "metadata": {},
   "outputs": [],
   "source": []
  },
  {
   "cell_type": "code",
   "execution_count": null,
   "metadata": {},
   "outputs": [],
   "source": []
  }
 ],
 "metadata": {
  "kernelspec": {
   "display_name": "superTrend",
   "language": "python",
   "name": "python3"
  },
  "language_info": {
   "codemirror_mode": {
    "name": "ipython",
    "version": 3
   },
   "file_extension": ".py",
   "mimetype": "text/x-python",
   "name": "python",
   "nbconvert_exporter": "python",
   "pygments_lexer": "ipython3",
   "version": "3.10.12"
  }
 },
 "nbformat": 4,
 "nbformat_minor": 2
}
